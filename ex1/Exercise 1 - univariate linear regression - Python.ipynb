{
 "cells": [
  {
   "cell_type": "markdown",
   "metadata": {},
   "source": [
    "## Exercise 1 - Univariate linear regression"
   ]
  },
  {
   "cell_type": "code",
   "execution_count": 39,
   "metadata": {},
   "outputs": [],
   "source": [
    "import numpy as np\n",
    "import pandas as pd"
   ]
  },
  {
   "cell_type": "markdown",
   "metadata": {},
   "source": [
    "### 1. Warmup - create 5 x 5 identity matrix"
   ]
  },
  {
   "cell_type": "code",
   "execution_count": 40,
   "metadata": {},
   "outputs": [
    {
     "data": {
      "text/plain": [
       "array([[1., 0., 0., 0., 0.],\n",
       "       [0., 1., 0., 0., 0.],\n",
       "       [0., 0., 1., 0., 0.],\n",
       "       [0., 0., 0., 1., 0.],\n",
       "       [0., 0., 0., 0., 1.]])"
      ]
     },
     "execution_count": 40,
     "metadata": {},
     "output_type": "execute_result"
    }
   ],
   "source": [
    "np.eye(5)"
   ]
  },
  {
   "cell_type": "markdown",
   "metadata": {},
   "source": [
    "### 2. Linear regression with one variable - univariate"
   ]
  },
  {
   "cell_type": "markdown",
   "metadata": {},
   "source": [
    "You are CEO of a food truck business.  You have data for populations and profits in different cities.  You want to run a linear regression on this data.  \n",
    "Data resides in `ex1data1.txt`, column 1 = population, column 2 = profits (or loss)"
   ]
  },
  {
   "cell_type": "code",
   "execution_count": 41,
   "metadata": {},
   "outputs": [],
   "source": [
    "df = pd.read_table('ex1data1.txt', sep=',', header=None, names=['pop', 'profit'])"
   ]
  },
  {
   "cell_type": "code",
   "execution_count": 42,
   "metadata": {},
   "outputs": [
    {
     "data": {
      "text/html": [
       "<div>\n",
       "<style scoped>\n",
       "    .dataframe tbody tr th:only-of-type {\n",
       "        vertical-align: middle;\n",
       "    }\n",
       "\n",
       "    .dataframe tbody tr th {\n",
       "        vertical-align: top;\n",
       "    }\n",
       "\n",
       "    .dataframe thead th {\n",
       "        text-align: right;\n",
       "    }\n",
       "</style>\n",
       "<table border=\"1\" class=\"dataframe\">\n",
       "  <thead>\n",
       "    <tr style=\"text-align: right;\">\n",
       "      <th></th>\n",
       "      <th>pop</th>\n",
       "      <th>profit</th>\n",
       "    </tr>\n",
       "  </thead>\n",
       "  <tbody>\n",
       "    <tr>\n",
       "      <th>0</th>\n",
       "      <td>6.1101</td>\n",
       "      <td>17.5920</td>\n",
       "    </tr>\n",
       "    <tr>\n",
       "      <th>1</th>\n",
       "      <td>5.5277</td>\n",
       "      <td>9.1302</td>\n",
       "    </tr>\n",
       "    <tr>\n",
       "      <th>2</th>\n",
       "      <td>8.5186</td>\n",
       "      <td>13.6620</td>\n",
       "    </tr>\n",
       "    <tr>\n",
       "      <th>3</th>\n",
       "      <td>7.0032</td>\n",
       "      <td>11.8540</td>\n",
       "    </tr>\n",
       "    <tr>\n",
       "      <th>4</th>\n",
       "      <td>5.8598</td>\n",
       "      <td>6.8233</td>\n",
       "    </tr>\n",
       "  </tbody>\n",
       "</table>\n",
       "</div>"
      ],
      "text/plain": [
       "      pop   profit\n",
       "0  6.1101  17.5920\n",
       "1  5.5277   9.1302\n",
       "2  8.5186  13.6620\n",
       "3  7.0032  11.8540\n",
       "4  5.8598   6.8233"
      ]
     },
     "execution_count": 42,
     "metadata": {},
     "output_type": "execute_result"
    }
   ],
   "source": [
    "df.head()"
   ]
  },
  {
   "cell_type": "code",
   "execution_count": 43,
   "metadata": {},
   "outputs": [
    {
     "data": {
      "text/html": [
       "<div>\n",
       "<style scoped>\n",
       "    .dataframe tbody tr th:only-of-type {\n",
       "        vertical-align: middle;\n",
       "    }\n",
       "\n",
       "    .dataframe tbody tr th {\n",
       "        vertical-align: top;\n",
       "    }\n",
       "\n",
       "    .dataframe thead th {\n",
       "        text-align: right;\n",
       "    }\n",
       "</style>\n",
       "<table border=\"1\" class=\"dataframe\">\n",
       "  <thead>\n",
       "    <tr style=\"text-align: right;\">\n",
       "      <th></th>\n",
       "      <th>profit</th>\n",
       "    </tr>\n",
       "  </thead>\n",
       "  <tbody>\n",
       "    <tr>\n",
       "      <th>23</th>\n",
       "      <td>5.18750</td>\n",
       "    </tr>\n",
       "    <tr>\n",
       "      <th>47</th>\n",
       "      <td>1.84400</td>\n",
       "    </tr>\n",
       "    <tr>\n",
       "      <th>24</th>\n",
       "      <td>3.08250</td>\n",
       "    </tr>\n",
       "    <tr>\n",
       "      <th>40</th>\n",
       "      <td>0.55657</td>\n",
       "    </tr>\n",
       "    <tr>\n",
       "      <th>74</th>\n",
       "      <td>-2.68070</td>\n",
       "    </tr>\n",
       "    <tr>\n",
       "      <th>9</th>\n",
       "      <td>3.81660</td>\n",
       "    </tr>\n",
       "    <tr>\n",
       "      <th>66</th>\n",
       "      <td>5.74420</td>\n",
       "    </tr>\n",
       "    <tr>\n",
       "      <th>29</th>\n",
       "      <td>24.14700</td>\n",
       "    </tr>\n",
       "    <tr>\n",
       "      <th>85</th>\n",
       "      <td>4.24150</td>\n",
       "    </tr>\n",
       "    <tr>\n",
       "      <th>43</th>\n",
       "      <td>2.44060</td>\n",
       "    </tr>\n",
       "    <tr>\n",
       "      <th>87</th>\n",
       "      <td>0.92695</td>\n",
       "    </tr>\n",
       "    <tr>\n",
       "      <th>26</th>\n",
       "      <td>13.50100</td>\n",
       "    </tr>\n",
       "    <tr>\n",
       "      <th>21</th>\n",
       "      <td>21.76700</td>\n",
       "    </tr>\n",
       "    <tr>\n",
       "      <th>13</th>\n",
       "      <td>7.22580</td>\n",
       "    </tr>\n",
       "    <tr>\n",
       "      <th>50</th>\n",
       "      <td>6.75040</td>\n",
       "    </tr>\n",
       "    <tr>\n",
       "      <th>65</th>\n",
       "      <td>4.88520</td>\n",
       "    </tr>\n",
       "    <tr>\n",
       "      <th>44</th>\n",
       "      <td>6.73180</td>\n",
       "    </tr>\n",
       "    <tr>\n",
       "      <th>67</th>\n",
       "      <td>7.77540</td>\n",
       "    </tr>\n",
       "    <tr>\n",
       "      <th>5</th>\n",
       "      <td>11.88600</td>\n",
       "    </tr>\n",
       "    <tr>\n",
       "      <th>82</th>\n",
       "      <td>0.67861</td>\n",
       "    </tr>\n",
       "  </tbody>\n",
       "</table>\n",
       "</div>"
      ],
      "text/plain": [
       "      profit\n",
       "23   5.18750\n",
       "47   1.84400\n",
       "24   3.08250\n",
       "40   0.55657\n",
       "74  -2.68070\n",
       "9    3.81660\n",
       "66   5.74420\n",
       "29  24.14700\n",
       "85   4.24150\n",
       "43   2.44060\n",
       "87   0.92695\n",
       "26  13.50100\n",
       "21  21.76700\n",
       "13   7.22580\n",
       "50   6.75040\n",
       "65   4.88520\n",
       "44   6.73180\n",
       "67   7.77540\n",
       "5   11.88600\n",
       "82   0.67861"
      ]
     },
     "execution_count": 43,
     "metadata": {},
     "output_type": "execute_result"
    }
   ],
   "source": [
    "df[['profit']].sample(20)"
   ]
  },
  {
   "cell_type": "code",
   "execution_count": 44,
   "metadata": {},
   "outputs": [
    {
     "data": {
      "text/html": [
       "<div>\n",
       "<style scoped>\n",
       "    .dataframe tbody tr th:only-of-type {\n",
       "        vertical-align: middle;\n",
       "    }\n",
       "\n",
       "    .dataframe tbody tr th {\n",
       "        vertical-align: top;\n",
       "    }\n",
       "\n",
       "    .dataframe thead th {\n",
       "        text-align: right;\n",
       "    }\n",
       "</style>\n",
       "<table border=\"1\" class=\"dataframe\">\n",
       "  <thead>\n",
       "    <tr style=\"text-align: right;\">\n",
       "      <th></th>\n",
       "      <th>profit</th>\n",
       "    </tr>\n",
       "  </thead>\n",
       "  <tbody>\n",
       "    <tr>\n",
       "      <th>count</th>\n",
       "      <td>97.000000</td>\n",
       "    </tr>\n",
       "    <tr>\n",
       "      <th>mean</th>\n",
       "      <td>5.839135</td>\n",
       "    </tr>\n",
       "    <tr>\n",
       "      <th>std</th>\n",
       "      <td>5.510262</td>\n",
       "    </tr>\n",
       "    <tr>\n",
       "      <th>min</th>\n",
       "      <td>-2.680700</td>\n",
       "    </tr>\n",
       "    <tr>\n",
       "      <th>25%</th>\n",
       "      <td>1.986900</td>\n",
       "    </tr>\n",
       "    <tr>\n",
       "      <th>50%</th>\n",
       "      <td>4.562300</td>\n",
       "    </tr>\n",
       "    <tr>\n",
       "      <th>75%</th>\n",
       "      <td>7.046700</td>\n",
       "    </tr>\n",
       "    <tr>\n",
       "      <th>max</th>\n",
       "      <td>24.147000</td>\n",
       "    </tr>\n",
       "  </tbody>\n",
       "</table>\n",
       "</div>"
      ],
      "text/plain": [
       "          profit\n",
       "count  97.000000\n",
       "mean    5.839135\n",
       "std     5.510262\n",
       "min    -2.680700\n",
       "25%     1.986900\n",
       "50%     4.562300\n",
       "75%     7.046700\n",
       "max    24.147000"
      ]
     },
     "execution_count": 44,
     "metadata": {},
     "output_type": "execute_result"
    }
   ],
   "source": [
    "df[['profit']].describe()"
   ]
  },
  {
   "cell_type": "markdown",
   "metadata": {},
   "source": [
    "97 examples, mean, std, range"
   ]
  },
  {
   "cell_type": "markdown",
   "metadata": {},
   "source": [
    "What's best guess of profit of a new business?  \n",
    "\n",
    "* Range is -2.7 to 24.1.  \n",
    "* Mean is 5.8.  \n",
    "* Median (50th %ile) is 4.6.\n",
    "\n",
    "If you were given the population, would that change your guess?  "
   ]
  },
  {
   "cell_type": "code",
   "execution_count": 45,
   "metadata": {},
   "outputs": [
    {
     "data": {
      "text/plain": [
       "([<matplotlib.axis.XTick at 0x1082c8a20>,\n",
       "  <matplotlib.axis.XTick at 0x107144f28>,\n",
       "  <matplotlib.axis.XTick at 0x10775c630>,\n",
       "  <matplotlib.axis.XTick at 0x1084a9390>,\n",
       "  <matplotlib.axis.XTick at 0x1084a9d68>,\n",
       "  <matplotlib.axis.XTick at 0x1084b2780>,\n",
       "  <matplotlib.axis.XTick at 0x1084b80b8>,\n",
       "  <matplotlib.axis.XTick at 0x1084b8a90>],\n",
       " <a list of 8 Text xticklabel objects>)"
      ]
     },
     "execution_count": 45,
     "metadata": {},
     "output_type": "execute_result"
    },
    {
     "data": {
      "image/png": "[encoded data removed]",
      "text/plain": [
       "<matplotlib.figure.Figure at 0x1072fecc0>"
      ]
     },
     "metadata": {},
     "output_type": "display_data"
    }
   ],
   "source": [
    "o = np.ones(len(df))\n",
    "plt.figure(figsize = (12,3))\n",
    "plt.scatter(df['profit'], o)\n",
    "plt.xticks([-2.5, 0, 2.5, 5, 10, 15, 20, 25],(-2.5, 0, 2.5, 5, 10, 15, 20, 25))"
   ]
  },
  {
   "cell_type": "code",
   "execution_count": 46,
   "metadata": {},
   "outputs": [
    {
     "data": {
      "image/png": "[encoded data removed]",
      "text/plain": [
       "<matplotlib.figure.Figure at 0x1077c4d68>"
      ]
     },
     "metadata": {},
     "output_type": "display_data"
    }
   ],
   "source": [
    "plt.figure(figsize = (10,6))\n",
    "red_square = dict(markerfacecolor='r', marker='s')\n",
    "plt.boxplot(df['profit'], vert=False, notch=True, flierprops=red_square);"
   ]
  },
  {
   "cell_type": "code",
   "execution_count": 48,
   "metadata": {},
   "outputs": [
    {
     "data": {
      "text/html": [
       "<div>\n",
       "<style scoped>\n",
       "    .dataframe tbody tr th:only-of-type {\n",
       "        vertical-align: middle;\n",
       "    }\n",
       "\n",
       "    .dataframe tbody tr th {\n",
       "        vertical-align: top;\n",
       "    }\n",
       "\n",
       "    .dataframe thead th {\n",
       "        text-align: right;\n",
       "    }\n",
       "</style>\n",
       "<table border=\"1\" class=\"dataframe\">\n",
       "  <thead>\n",
       "    <tr style=\"text-align: right;\">\n",
       "      <th></th>\n",
       "      <th>pop</th>\n",
       "      <th>profit</th>\n",
       "    </tr>\n",
       "  </thead>\n",
       "  <tbody>\n",
       "    <tr>\n",
       "      <th>74</th>\n",
       "      <td>5.0269</td>\n",
       "      <td>-2.68070</td>\n",
       "    </tr>\n",
       "    <tr>\n",
       "      <th>96</th>\n",
       "      <td>5.4369</td>\n",
       "      <td>0.61705</td>\n",
       "    </tr>\n",
       "    <tr>\n",
       "      <th>32</th>\n",
       "      <td>9.2482</td>\n",
       "      <td>12.13400</td>\n",
       "    </tr>\n",
       "    <tr>\n",
       "      <th>10</th>\n",
       "      <td>5.7107</td>\n",
       "      <td>3.25220</td>\n",
       "    </tr>\n",
       "    <tr>\n",
       "      <th>89</th>\n",
       "      <td>5.0594</td>\n",
       "      <td>2.82140</td>\n",
       "    </tr>\n",
       "    <tr>\n",
       "      <th>6</th>\n",
       "      <td>7.4764</td>\n",
       "      <td>4.34830</td>\n",
       "    </tr>\n",
       "    <tr>\n",
       "      <th>15</th>\n",
       "      <td>5.3794</td>\n",
       "      <td>3.51290</td>\n",
       "    </tr>\n",
       "    <tr>\n",
       "      <th>65</th>\n",
       "      <td>7.2182</td>\n",
       "      <td>4.88520</td>\n",
       "    </tr>\n",
       "    <tr>\n",
       "      <th>3</th>\n",
       "      <td>7.0032</td>\n",
       "      <td>11.85400</td>\n",
       "    </tr>\n",
       "    <tr>\n",
       "      <th>40</th>\n",
       "      <td>5.4069</td>\n",
       "      <td>0.55657</td>\n",
       "    </tr>\n",
       "    <tr>\n",
       "      <th>58</th>\n",
       "      <td>9.3102</td>\n",
       "      <td>3.96240</td>\n",
       "    </tr>\n",
       "    <tr>\n",
       "      <th>16</th>\n",
       "      <td>6.3654</td>\n",
       "      <td>5.30480</td>\n",
       "    </tr>\n",
       "    <tr>\n",
       "      <th>26</th>\n",
       "      <td>12.8280</td>\n",
       "      <td>13.50100</td>\n",
       "    </tr>\n",
       "    <tr>\n",
       "      <th>27</th>\n",
       "      <td>10.9570</td>\n",
       "      <td>7.04670</td>\n",
       "    </tr>\n",
       "    <tr>\n",
       "      <th>67</th>\n",
       "      <td>10.2360</td>\n",
       "      <td>7.77540</td>\n",
       "    </tr>\n",
       "    <tr>\n",
       "      <th>17</th>\n",
       "      <td>5.1301</td>\n",
       "      <td>0.56077</td>\n",
       "    </tr>\n",
       "    <tr>\n",
       "      <th>51</th>\n",
       "      <td>5.3077</td>\n",
       "      <td>1.83960</td>\n",
       "    </tr>\n",
       "    <tr>\n",
       "      <th>54</th>\n",
       "      <td>6.3328</td>\n",
       "      <td>1.42330</td>\n",
       "    </tr>\n",
       "    <tr>\n",
       "      <th>92</th>\n",
       "      <td>5.8707</td>\n",
       "      <td>7.20290</td>\n",
       "    </tr>\n",
       "    <tr>\n",
       "      <th>8</th>\n",
       "      <td>6.4862</td>\n",
       "      <td>6.59870</td>\n",
       "    </tr>\n",
       "  </tbody>\n",
       "</table>\n",
       "</div>"
      ],
      "text/plain": [
       "        pop    profit\n",
       "74   5.0269  -2.68070\n",
       "96   5.4369   0.61705\n",
       "32   9.2482  12.13400\n",
       "10   5.7107   3.25220\n",
       "89   5.0594   2.82140\n",
       "6    7.4764   4.34830\n",
       "15   5.3794   3.51290\n",
       "65   7.2182   4.88520\n",
       "3    7.0032  11.85400\n",
       "40   5.4069   0.55657\n",
       "58   9.3102   3.96240\n",
       "16   6.3654   5.30480\n",
       "26  12.8280  13.50100\n",
       "27  10.9570   7.04670\n",
       "67  10.2360   7.77540\n",
       "17   5.1301   0.56077\n",
       "51   5.3077   1.83960\n",
       "54   6.3328   1.42330\n",
       "92   5.8707   7.20290\n",
       "8    6.4862   6.59870"
      ]
     },
     "execution_count": 48,
     "metadata": {},
     "output_type": "execute_result"
    }
   ],
   "source": [
    "df.sample(20)"
   ]
  },
  {
   "cell_type": "code",
   "execution_count": 49,
   "metadata": {},
   "outputs": [
    {
     "data": {
      "text/html": [
       "<div>\n",
       "<style scoped>\n",
       "    .dataframe tbody tr th:only-of-type {\n",
       "        vertical-align: middle;\n",
       "    }\n",
       "\n",
       "    .dataframe tbody tr th {\n",
       "        vertical-align: top;\n",
       "    }\n",
       "\n",
       "    .dataframe thead th {\n",
       "        text-align: right;\n",
       "    }\n",
       "</style>\n",
       "<table border=\"1\" class=\"dataframe\">\n",
       "  <thead>\n",
       "    <tr style=\"text-align: right;\">\n",
       "      <th></th>\n",
       "      <th>pop</th>\n",
       "      <th>profit</th>\n",
       "    </tr>\n",
       "  </thead>\n",
       "  <tbody>\n",
       "    <tr>\n",
       "      <th>count</th>\n",
       "      <td>97.000000</td>\n",
       "      <td>97.000000</td>\n",
       "    </tr>\n",
       "    <tr>\n",
       "      <th>mean</th>\n",
       "      <td>8.159800</td>\n",
       "      <td>5.839135</td>\n",
       "    </tr>\n",
       "    <tr>\n",
       "      <th>std</th>\n",
       "      <td>3.869884</td>\n",
       "      <td>5.510262</td>\n",
       "    </tr>\n",
       "    <tr>\n",
       "      <th>min</th>\n",
       "      <td>5.026900</td>\n",
       "      <td>-2.680700</td>\n",
       "    </tr>\n",
       "    <tr>\n",
       "      <th>25%</th>\n",
       "      <td>5.707700</td>\n",
       "      <td>1.986900</td>\n",
       "    </tr>\n",
       "    <tr>\n",
       "      <th>50%</th>\n",
       "      <td>6.589400</td>\n",
       "      <td>4.562300</td>\n",
       "    </tr>\n",
       "    <tr>\n",
       "      <th>75%</th>\n",
       "      <td>8.578100</td>\n",
       "      <td>7.046700</td>\n",
       "    </tr>\n",
       "    <tr>\n",
       "      <th>max</th>\n",
       "      <td>22.203000</td>\n",
       "      <td>24.147000</td>\n",
       "    </tr>\n",
       "  </tbody>\n",
       "</table>\n",
       "</div>"
      ],
      "text/plain": [
       "             pop     profit\n",
       "count  97.000000  97.000000\n",
       "mean    8.159800   5.839135\n",
       "std     3.869884   5.510262\n",
       "min     5.026900  -2.680700\n",
       "25%     5.707700   1.986900\n",
       "50%     6.589400   4.562300\n",
       "75%     8.578100   7.046700\n",
       "max    22.203000  24.147000"
      ]
     },
     "execution_count": 49,
     "metadata": {},
     "output_type": "execute_result"
    }
   ],
   "source": [
    "df.describe()"
   ]
  },
  {
   "cell_type": "markdown",
   "metadata": {},
   "source": [
    "Correlation, profit depends on population?"
   ]
  },
  {
   "cell_type": "markdown",
   "metadata": {},
   "source": [
    "### 2.1 Plotting the data"
   ]
  },
  {
   "cell_type": "code",
   "execution_count": 50,
   "metadata": {},
   "outputs": [],
   "source": [
    "import matplotlib\n",
    "import matplotlib.pyplot as plt"
   ]
  },
  {
   "cell_type": "code",
   "execution_count": 51,
   "metadata": {},
   "outputs": [
    {
     "data": {
      "text/plain": [
       "[<matplotlib.lines.Line2D at 0x108630b70>]"
      ]
     },
     "execution_count": 51,
     "metadata": {},
     "output_type": "execute_result"
    },
    {
     "data": {
      "image/png": "[encoded data removed]",
      "text/plain": [
       "<matplotlib.figure.Figure at 0x1085e3908>"
      ]
     },
     "metadata": {},
     "output_type": "display_data"
    }
   ],
   "source": [
    "plt.figure(figsize = (10,6))\n",
    "plt.scatter(df['pop'], df.profit)\n",
    "plt.xlabel('population in 10,000s')\n",
    "plt.ylabel('profit in 10,000s')\n",
    "plt.plot((5,22.5), (5.84, 5.84), 'black')\n"
   ]
  },
  {
   "cell_type": "markdown",
   "metadata": {},
   "source": [
    "### 2.2 Linear Regression and Gradient descent"
   ]
  },
  {
   "cell_type": "markdown",
   "metadata": {},
   "source": [
    "#### Hypothesis function $H_\\theta(x)$"
   ]
  },
  {
   "cell_type": "markdown",
   "metadata": {},
   "source": [
    "In Linear Regression, the goal is to fit the best line to our data points so we may then use that line to predict a profit for a given population.  \n",
    "\n",
    "Many lines can be fit, which one is the best?"
   ]
  },
  {
   "cell_type": "code",
   "execution_count": 52,
   "metadata": {},
   "outputs": [
    {
     "data": {
      "image/png": "[encoded data removed]",
      "text/plain": [
       "<matplotlib.figure.Figure at 0x108675128>"
      ]
     },
     "metadata": {},
     "output_type": "display_data"
    }
   ],
   "source": [
    "# Plot of possible regression lines\n",
    "plt.figure(figsize = (10,6))\n",
    "plt.scatter(df['pop'], df.profit)\n",
    "plt.xlabel('population in 10,000s')\n",
    "plt.ylabel('profit in 10,000s')\n",
    "plt.plot((5,22.5), (5,15), 'r')\n",
    "plt.plot((5,22.5), (2,20), 'g')\n",
    "plt.plot((5,22.5), (0, 24))\n",
    "plt.plot((5,22.5), (5.84, 5.84), 'black')\n",
    "plt.title('Best Line?');\n"
   ]
  },
  {
   "cell_type": "markdown",
   "metadata": {},
   "source": [
    "something here about equation of a line y = mx + b, leading into H = theta@x  \n",
    "\n",
    "Also, that the line becomes our predictor function.  Someone gives us a population and we predict a profit from the line."
   ]
  },
  {
   "cell_type": "markdown",
   "metadata": {},
   "source": [
    "In machine learning this linear prediction function is called the Hypothesis function and takes the form  \n",
    "$H_\\theta(x) = \\theta_0 + \\theta_1 x$\n",
    "\n",
    "This is the familiar equation of a line where  \n",
    "$\\theta_0$ is the line's y-intercept and  \n",
    "$\\theta_1$ represents the line's slope   "
   ]
  },
  {
   "cell_type": "markdown",
   "metadata": {},
   "source": [
    "The hypothesis function $H_\\theta(x)$ contains the $\\theta$ subscript as an indicator that the function depends on our choice of $\\theta_0$ and $\\theta_1$.  \n",
    "\n",
    "One choice of $\\theta$s will define a different line and predict a different profit for a given population than another pair of $\\theta$s.  \n",
    "\n",
    "We want to choose $\\theta$s to best fit our $m$ data points."
   ]
  },
  {
   "cell_type": "markdown",
   "metadata": {},
   "source": [
    "#### Cost function $J_\\theta(x)$"
   ]
  },
  {
   "cell_type": "markdown",
   "metadata": {},
   "source": [
    "What do we mean best fit?  How do we define what the best line is?\n",
    "\n",
    "We can use our eyes and may be able to see that one is better than another.  But it would be better if we could come up with a quantitative measure.\n",
    "\n",
    "In linear regression, the best line is the line that minimizes the sum of the squares of the vertical distances between the line and each data point.  "
   ]
  },
  {
   "cell_type": "markdown",
   "metadata": {},
   "source": [
    "graph showing about 5 points and a line and the vertical distance"
   ]
  },
  {
   "cell_type": "markdown",
   "metadata": {},
   "source": [
    "For a point $(x_k, y_k)$, the vertical distance between the line and this point is $H_\\theta(x_k) - y_k$  "
   ]
  },
  {
   "cell_type": "markdown",
   "metadata": {},
   "source": [
    "labeled graph showing why this is true, point's vertical height is yk, line's is H(x)"
   ]
  },
  {
   "cell_type": "markdown",
   "metadata": {},
   "source": [
    "We'll use the term _Cost_ to represent the sum of the squared differences.  \n",
    "The goal will be to fit a line that minimizes the Cost."
   ]
  },
  {
   "cell_type": "markdown",
   "metadata": {},
   "source": [
    "A poor choice of $\\theta$s will result in a line that has large distances between itself and the data points and therefore a large Cost.  A good choice of $\\theta$s will result in a line that has a small Cost.  \n",
    "\n",
    "We will define the Cost function $J_\\theta(x)$ as $$J_\\theta(x) = \\frac{1}{2m} \\sum_{i=1}^m (H_\\theta(x_i) - y_i)^2$$\n"
   ]
  },
  {
   "cell_type": "markdown",
   "metadata": {},
   "source": [
    "let's pick this apart, start inside the parens, that's just the distance.  Square it so negative distances don't cancel out positive distances.  Explain that the Sigma sums the distances for all of the points.  Divide by m results in an average cost."
   ]
  },
  {
   "cell_type": "markdown",
   "metadata": {},
   "source": [
    "This is just the sum of the squared differences divided by $2m$.  \n",
    "\n",
    "We divide by $m$ (the number of data points, a constant) to express the Cost in terms of the average squared distance.  \n",
    "\n",
    "We also divide by 2 just for mathematical convenience later in the process.  \n",
    "This is allowed because all we are trying to do with $J$ is to find parameters $\\theta_0$ and $\\theta_1$ that minimize $J$.  \n",
    "If this set of $\\theta$s minimizes $J$, it also minimizes $\\frac{1}{2}J$.\n",
    "\n",
    "\n"
   ]
  },
  {
   "cell_type": "markdown",
   "metadata": {},
   "source": [
    "Making use of the fact that $$H_\\theta(x_i) = \\theta_0+\\theta_1x_i$$ we expand the Cost function to"
   ]
  },
  {
   "cell_type": "markdown",
   "metadata": {},
   "source": [
    "$$J_\\theta(x) = \\frac{1}{2m} \\sum_{i=1}^{m} (\\theta_0 + \\theta_1x_i - y_i)^2$$"
   ]
  },
  {
   "cell_type": "markdown",
   "metadata": {},
   "source": [
    "#### 2.2.1 Gradient descent - Updating $\\theta$s"
   ]
  },
  {
   "cell_type": "markdown",
   "metadata": {},
   "source": [
    "In order to minimize the Cost associated with the points in our data set, we will seek out the pair of $\\theta$s that minimize $J$.  \n",
    "\n",
    "We'll do so by iteratively adjusting the $\\theta$s in a way that continually decreases $J$. \n",
    "\n",
    "This process is known as _gradient descent_."
   ]
  },
  {
   "cell_type": "markdown",
   "metadata": {},
   "source": [
    "Gradient descent finds the minimum of cost function $J$ by descending the Cost  gradient.   \n",
    "\n",
    "\n",
    "The logic goes like this:  \n",
    "choose step size $\\alpha$--this defines how big a step you take in each iteration  \n",
    "choose number of iterations to use  \n",
    "start with initial guesses for $\\theta_0$ and $\\theta_1$  \n",
    "calculate inital cost, $J$, based on this pair of $\\theta$s  \n",
    "Loop for the number of iterations\n",
    "* adjust $\\theta$s **simultaneously**  \n",
    "* calculate new cost, J  \n",
    "* optionally, stop when the change in J is small enough for your desired level of precision\n"
   ]
  },
  {
   "cell_type": "markdown",
   "metadata": {},
   "source": [
    "#### Updating $\\theta$ equations"
   ]
  },
  {
   "cell_type": "markdown",
   "metadata": {},
   "source": [
    "Within the loop, each $\\theta$ is updated by subtracting the partial derivative of $J$ with respect to each $\\theta$ multiplied by the chosen step size, $\\alpha$  \n",
    "\n",
    "(** Here is the step that motivated defining $J$ with the division by 2.  When the partial derivatives are taken, the $\\frac{1}{2}$ term cancels with the 2 from the exponent.)"
   ]
  },
  {
   "cell_type": "markdown",
   "metadata": {},
   "source": [
    "$\\theta_0 := \\theta_0 - \\frac{\\alpha}{m}\\sum_{i=1}^{m}(\\theta_0 + \\theta_1x_i - y_i)$"
   ]
  },
  {
   "cell_type": "markdown",
   "metadata": {},
   "source": [
    "$\\theta_1 := \\theta_1 - \\frac{\\alpha}{m}\\sum_{i=1}^m(\\theta_0 + \\theta_1x_i - y_i)x_i$"
   ]
  },
  {
   "cell_type": "markdown",
   "metadata": {},
   "source": [
    "short diversion showing gradient descent in 1 variable, with curve.  When derivative large, steps are large, when derivative gets close to 0, steps become small.  Show how it works from greater than minimum and lesser than minimum."
   ]
  },
  {
   "cell_type": "markdown",
   "metadata": {},
   "source": [
    "With each iteration, each $\\theta$ gets closer to its optimal value and $J$ becomes smaller."
   ]
  },
  {
   "cell_type": "markdown",
   "metadata": {},
   "source": [
    "### Code"
   ]
  },
  {
   "cell_type": "markdown",
   "metadata": {},
   "source": [
    "#### Load the data"
   ]
  },
  {
   "cell_type": "markdown",
   "metadata": {},
   "source": [
    "In order to take advantage of NumPy's vectorized multiplication, we are going to introduce an $x_0$ term that always equals 1.  So, for every data point we will have $x_0 = 1$, $x_1=$ population value, $y=$ profit value"
   ]
  },
  {
   "cell_type": "markdown",
   "metadata": {},
   "source": [
    "y = theta0 + theta1 \\* x1 is equivalent to  \n",
    "y = theta0 \\* 1 + theta1 \\* x1  \n",
    "so if we define x0 = 1 for every m then we can say\n",
    "y = theta0 \\* x0 + theta1 \\* x1"
   ]
  },
  {
   "cell_type": "markdown",
   "metadata": {},
   "source": [
    "This enables us to use the vector formula y = theta \\* x  \n",
    "without having to worry about 0 and 1 subscripts.  \n",
    "Otherwise it would be y = theta0 + theta1 \\* x"
   ]
  },
  {
   "cell_type": "code",
   "execution_count": 53,
   "metadata": {},
   "outputs": [
    {
     "data": {
      "text/plain": [
       "array([[1.    , 6.1101],\n",
       "       [1.    , 5.5277],\n",
       "       [1.    , 8.5186],\n",
       "       [1.    , 7.0032],\n",
       "       [1.    , 5.8598]])"
      ]
     },
     "execution_count": 53,
     "metadata": {},
     "output_type": "execute_result"
    }
   ],
   "source": [
    "#  create NumPy arrays\n",
    "x1 = np.array((df['pop']))  # load population vector from DataFrame into array x1\n",
    "x0 = np.ones(len(x1))  # load 1's into x0\n",
    "X = np.column_stack((x0, x1))  # create 2D array, m x 2, of x0 and x1\n",
    "\n",
    "X[:5] # first 5 elements of X"
   ]
  },
  {
   "cell_type": "code",
   "execution_count": 74,
   "metadata": {},
   "outputs": [],
   "source": [
    "# initialize variables\n",
    "m = len(X)  # number of examples\n",
    "alpha = 0.01  # gradient descent step size\n",
    "iterations = 10000\n",
    "theta = np.array([0.0, 0.0])  # intialize theta values\n",
    "J = np.zeros(iterations)  # initialize array to store successive cost calculations"
   ]
  },
  {
   "cell_type": "code",
   "execution_count": 58,
   "metadata": {},
   "outputs": [],
   "source": [
    "# define function to calculate J based on \n",
    "# m = number of examples\n",
    "# X = m x 2 matrix of 1s and population values\n",
    "# y = m length array of profit values\n",
    "# theta = array of length 2\n",
    "\n",
    "def calculateCost(m, X, y, theta):\n",
    "    J = 1/(2*m) * np.square(X @ theta - y).sum()\n",
    "    return J"
   ]
  },
  {
   "cell_type": "code",
   "execution_count": 59,
   "metadata": {},
   "outputs": [
    {
     "data": {
      "text/plain": [
       "32.072733877455676"
      ]
     },
     "execution_count": 59,
     "metadata": {},
     "output_type": "execute_result"
    }
   ],
   "source": [
    "calculateCost(m, X, y, (0,0))"
   ]
  },
  {
   "cell_type": "code",
   "execution_count": 75,
   "metadata": {},
   "outputs": [
    {
     "name": "stdout",
     "output_type": "stream",
     "text": [
      "theta[0] is -3.895781 and theta[1] is 1.193034\n",
      "cost is 4.476971\n"
     ]
    }
   ],
   "source": [
    "for i in range(iterations):\n",
    "    \n",
    "    J[i] = calculateCost(m, X, y, theta)\n",
    "    \n",
    "    # It's necessary to update the elements of theta simultaneously,\n",
    "    # can't first update theta[0] and then use this new value to \n",
    "    # calculate the update to theta[1], hence the use of the temp\n",
    "    # variables.\n",
    "       \n",
    "    \n",
    "    #   dimensions              97x2   2x1   97x1\n",
    "    temp0 = theta[0] - alpha/m * (X @ theta - y).sum()\n",
    "    temp1 = theta[1] - alpha/m * ((X @ theta - y) * X[:,1]).sum()\n",
    "    \n",
    "    theta[0] = temp0\n",
    "    theta[1] = temp1\n",
    "    # print(theta)\n",
    "\n",
    "\n",
    "print(\"theta[0] is {:.6f} and theta[1] is {:.6f}\".format(theta[0], theta[1]))\n",
    "print(\"cost is {:.6f}\".format(J[iterations-1]))"
   ]
  },
  {
   "cell_type": "code",
   "execution_count": 36,
   "metadata": {},
   "outputs": [
    {
     "data": {
      "image/png": "[encoded data removed]",
      "text/plain": [
       "<matplotlib.figure.Figure at 0x107a98278>"
      ]
     },
     "metadata": {},
     "output_type": "display_data"
    }
   ],
   "source": [
    "# plot the regression line based on the calcuated theta[0] (y-intc) and theta[1] (slope)\n",
    "\n",
    "plt.figure(figsize = (10,6))\n",
    "plt.scatter(df['pop'], df.profit)\n",
    "plt.xlabel('population')\n",
    "plt.ylabel('profit')\n",
    "#plt.plot((4.8,22.5), (theta[1] * 4.8 + theta[0], theta[1] * 22.5 + theta[0]), 'r');\n",
    "plt.plot((4.8,22.5), (0 * 4.8 + 0, 0 * 22.5 + 0), 'r'); # start with theta = (0,0)\n",
    "plt.plot((4.8,22.5), (0.653288 * 4.8 + 0.058391, 0.653288 * 22.5 + 0.058391), 'g'); # 1 iteration\n",
    "plt.plot((4.8,22.5), (0.77001 * 4.8 + 0.062892, 0.77001 * 22.5 + 0.062892), 'b'); # 2 iterations\n",
    "plt.plot((4.8,22.5), (0.791348 * 4.8 + 0.057823, 0.791348 * 22.5 + 0.057823), 'r'); # 3 iterations\n",
    "plt.plot((4.8,22.5), (0.79573 * 4.8 + 0.051064, 0.79573 * 22.5 + 0.051064), 'g'); # 4 iterations\n",
    "plt.plot((4.8,22.5), (0.797096 * 4.8 + 0.044014, 0.797096 * 22.5 + 0.044014), 'b'); # 5 iterations\n",
    "plt.plot((4.8,22.5), (0.859582 * 4.8 -0.576556, 0.859582 * 22.5 - 0.576556), 'r'); # 100 iterations"
   ]
  },
  {
   "cell_type": "markdown",
   "metadata": {},
   "source": [
    "### Post Analysis"
   ]
  },
  {
   "cell_type": "code",
   "execution_count": 76,
   "metadata": {},
   "outputs": [
    {
     "name": "stdout",
     "output_type": "stream",
     "text": [
      "b is -3.895781 and theta[0] is -3.895781\n",
      "s is 1.193034 and theta[1] is 1.193034\n"
     ]
    }
   ],
   "source": [
    "s, b = np.polyfit(x1, y, 1)  # numpy routine fits best 1st degree polynomial through data pts, returns slope, y intcpt\n",
    "print(\"b is {:.6f} and theta[0] is {:.6f}\".format(b, theta[0]))\n",
    "print(\"s is {:.6f} and theta[1] is {:.6f}\".format(s, theta[1]))"
   ]
  },
  {
   "cell_type": "code",
   "execution_count": 77,
   "metadata": {},
   "outputs": [
    {
     "data": {
      "text/plain": [
       "-4.887633080424952e-09"
      ]
     },
     "execution_count": 77,
     "metadata": {},
     "output_type": "execute_result"
    }
   ],
   "source": [
    "(theta[1] - s)/s  # close to our theta[1]?"
   ]
  },
  {
   "cell_type": "code",
   "execution_count": 78,
   "metadata": {},
   "outputs": [
    {
     "data": {
      "text/plain": [
       "-1.4899097753583193e-08"
      ]
     },
     "execution_count": 78,
     "metadata": {},
     "output_type": "execute_result"
    }
   ],
   "source": [
    "(theta[0] - b)/b  # close to our theta[0]?"
   ]
  },
  {
   "cell_type": "code",
   "execution_count": 79,
   "metadata": {},
   "outputs": [
    {
     "data": {
      "text/plain": [
       "4.476971375975179"
      ]
     },
     "execution_count": 79,
     "metadata": {},
     "output_type": "execute_result"
    }
   ],
   "source": [
    "cost = calculateCost(m, X, y, (b,s))\n",
    "cost"
   ]
  },
  {
   "cell_type": "code",
   "execution_count": 80,
   "metadata": {},
   "outputs": [
    {
     "name": "stdout",
     "output_type": "stream",
     "text": [
      "percentage cost difference = 0.000000%\n"
     ]
    }
   ],
   "source": [
    "costDiff = (J[iterations-1] - cost)/cost  # close to our minimum cost?\n",
    "print(\"percentage cost difference = {:.6%}\".format(costDiff))"
   ]
  },
  {
   "cell_type": "markdown",
   "metadata": {},
   "source": [
    "### Plot J against iterations"
   ]
  },
  {
   "cell_type": "markdown",
   "metadata": {},
   "source": [
    "How many iterations were required to reduce $J$?"
   ]
  },
  {
   "cell_type": "code",
   "execution_count": 738,
   "metadata": {},
   "outputs": [
    {
     "data": {
      "image/png": "[encoded data removed]",
      "text/plain": [
       "<matplotlib.figure.Figure at 0x10bf560b8>"
      ]
     },
     "metadata": {},
     "output_type": "display_data"
    }
   ],
   "source": [
    "plt.figure(figsize = (10,6))\n",
    "plt.plot(range(iterations), J)\n",
    "plt.xlabel('iterations')\n",
    "plt.ylabel('cost');\n"
   ]
  },
  {
   "cell_type": "markdown",
   "metadata": {},
   "source": [
    "$J$ does not move much in the neighborhood of the last 5 iterations"
   ]
  },
  {
   "cell_type": "code",
   "execution_count": 81,
   "metadata": {},
   "outputs": [
    {
     "data": {
      "text/plain": [
       "array([4.47697138, 4.47697138, 4.47697138, 4.47697138, 4.47697138])"
      ]
     },
     "execution_count": 81,
     "metadata": {},
     "output_type": "execute_result"
    }
   ],
   "source": [
    "J[-5:]"
   ]
  },
  {
   "cell_type": "code",
   "execution_count": 38,
   "metadata": {},
   "outputs": [],
   "source": [
    "from mpl_toolkits.mplot3d import Axes3D\n",
    "from matplotlib import cm"
   ]
  },
  {
   "cell_type": "markdown",
   "metadata": {},
   "source": [
    "Plot the Cost surface, $J$, vs. $\\theta_0$ and $\\theta_1$"
   ]
  },
  {
   "cell_type": "code",
   "execution_count": 40,
   "metadata": {},
   "outputs": [
    {
     "data": {
      "image/png": "[encoded data removed]",
      "text/plain": [
       "<matplotlib.figure.Figure at 0x107797a20>"
      ]
     },
     "metadata": {},
     "output_type": "display_data"
    }
   ],
   "source": [
    "fig = plt.figure(figsize=(15,9))\n",
    "ax = fig.gca(projection='3d')\n",
    "\n",
    "# Grid over which we will calculate J\n",
    "theta1_vals = np.linspace(-5, 0, 100)\n",
    "theta0_vals = np.linspace(0, 2, 100)\n",
    "\n",
    "J_vals = np.zeros((len(theta0_vals), len(theta1_vals)))\n",
    "\n",
    "for i in range(len(theta0_vals)):\n",
    "    for j in range(len(theta1_vals)):\n",
    "        t = (theta1_vals[i], theta0_vals[j])\n",
    "        J_vals[i,j] = calculateCost(m, X, y, t)\n",
    "\n",
    "theta0_vals, theta1_vals  = np.meshgrid(theta0_vals, theta1_vals)\n",
    "\n",
    "surf = ax.plot_surface(theta0_vals, theta1_vals, J_vals, cmap=cm.plasma,\n",
    "                       linewidth=0, antialiased=False)"
   ]
  },
  {
   "cell_type": "code",
   "execution_count": null,
   "metadata": {},
   "outputs": [],
   "source": []
  }
 ],
 "metadata": {
  "kernelspec": {
   "display_name": "Python 3",
   "language": "python",
   "name": "python3"
  },
  "language_info": {
   "codemirror_mode": {
    "name": "ipython",
    "version": 3
   },
   "file_extension": ".py",
   "mimetype": "text/x-python",
   "name": "python",
   "nbconvert_exporter": "python",
   "pygments_lexer": "ipython3",
   "version": "3.6.2"
  }
 },
 "nbformat": 4,
 "nbformat_minor": 2
}
